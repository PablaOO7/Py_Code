{
  "cells": [
    {
      "cell_type": "markdown",
      "metadata": {
        "id": "view-in-github",
        "colab_type": "text"
      },
      "source": [
        "<a href=\"https://colab.research.google.com/github/PablaOO7/Py_Code/blob/main/R_assignment_2_ques.ipynb\" target=\"_parent\"><img src=\"https://colab.research.google.com/assets/colab-badge.svg\" alt=\"Open In Colab\"/></a>"
      ]
    },
    {
      "cell_type": "markdown",
      "metadata": {
        "kernel": "SoS",
        "id": "rkh3Xsj1lHRz"
      },
      "source": [
        "# Welcome to Pollyglot Notebook."
      ]
    },
    {
      "cell_type": "code",
      "source": [
        ""
      ],
      "metadata": {
        "id": "ZXx-tbLjnPB_"
      },
      "execution_count": null,
      "outputs": []
    },
    {
      "cell_type": "markdown",
      "metadata": {
        "kernel": "R",
        "id": "-BT05b8zlHR6"
      },
      "source": [
        "## Q1. Considering several samples of univariate measurements draw comparisons between intensities of a set of four genes (Fgf4, Gata4, Gata6, Sox2)\n",
        "\n",
        "Prepare:\n",
        "- Bar plot with error bars\n",
        "- Box plot\n",
        "- Violin plot\n",
        "- Density plot\n",
        "\n",
        "\n",
        "Instructions: run the cells below to obtain the data (genes)."
      ]
    },
    {
      "cell_type": "code",
      "execution_count": null,
      "metadata": {
        "kernel": "R",
        "id": "lhSL0lHLlHR7",
        "outputId": "f25b09d5-2ff3-43e0-ce1a-75dce1bb7a43"
      },
      "outputs": [
        {
          "name": "stdout",
          "output_type": "stream",
          "text": [
            "\n",
            "R version 3.6.3 (2020-02-29) -- \"Holding the Windsock\"\n",
            "Copyright (C) 2020 The R Foundation for Statistical Computing\n",
            "Platform: x86_64-pc-linux-gnu (64-bit)\n",
            "\n",
            "R is free software and comes with ABSOLUTELY NO WARRANTY.\n",
            "You are welcome to redistribute it under certain conditions.\n",
            "Type 'license()' or 'licence()' for distribution details.\n",
            "\n",
            "  Natural language support but running in an English locale\n",
            "\n",
            "R is a collaborative project with many contributors.\n",
            "Type 'contributors()' for more information and\n",
            "'citation()' on how to cite R or R packages in publications.\n",
            "\n",
            "Type 'demo()' for some demos, 'help()' for on-line help, or\n",
            "'help.start()' for an HTML browser interface to help.\n",
            "Type 'q()' to quit R.\n",
            "\n",
            "> BiocManager::install(c(\"Hiiragi2013\"), update = F, ask = FALSE)\n",
            "Bioconductor version 3.10 (BiocManager 1.30.10), R 3.6.3 (2020-02-29)\n",
            "Installing package(s) 'Hiiragi2013'\n",
            "also installing the dependencies ‘affyio’, ‘Biostrings’, ‘org.Mm.eg.db’, ‘affy’, ‘clue’, ‘KEGGREST’, ‘mouse4302.db’\n",
            "\n",
            "trying URL 'https://bioconductor.org/packages/3.10/bioc/src/contrib/affyio_1.56.0.tar.gz'\n",
            "Content type 'application/x-gzip' length 109506 bytes (106 KB)\n",
            "==================================================\n",
            "downloaded 106 KB\n",
            "\n",
            "trying URL 'https://bioconductor.org/packages/3.10/bioc/src/contrib/Biostrings_2.54.0.tar.gz'\n",
            "Content type 'application/x-gzip' length 12708673 bytes (12.1 MB)\n",
            "==================================================\n",
            "downloaded 12.1 MB\n",
            "\n",
            "trying URL 'https://bioconductor.org/packages/3.10/data/annotation/src/contrib/org.Mm.eg.db_3.10.0.tar.gz'\n",
            "Content type 'application/x-gzip' length 72221575 bytes (68.9 MB)\n",
            "==================================================\n",
            "downloaded 68.9 MB\n",
            "\n",
            "trying URL 'https://bioconductor.org/packages/3.10/bioc/src/contrib/affy_1.64.0.tar.gz'\n",
            "Content type 'application/x-gzip' length 1316441 bytes (1.3 MB)\n",
            "==================================================\n",
            "downloaded 1.3 MB\n",
            "\n",
            "trying URL 'https://cran.rstudio.com/src/contrib/clue_0.3-60.tar.gz'\n",
            "Content type 'application/x-gzip' length 841956 bytes (822 KB)\n",
            "==================================================\n",
            "downloaded 822 KB\n",
            "\n",
            "trying URL 'https://bioconductor.org/packages/3.10/bioc/src/contrib/KEGGREST_1.26.1.tar.gz'\n",
            "Content type 'application/x-gzip' length 25020 bytes (24 KB)\n",
            "==================================================\n",
            "downloaded 24 KB\n",
            "\n",
            "trying URL 'https://bioconductor.org/packages/3.10/data/annotation/src/contrib/mouse4302.db_3.2.3.tar.gz'\n",
            "Content type 'application/x-gzip' length 1700696 bytes (1.6 MB)\n",
            "==================================================\n",
            "downloaded 1.6 MB\n",
            "\n",
            "trying URL 'https://bioconductor.org/packages/3.10/data/experiment/src/contrib/Hiiragi2013_1.22.0.tar.gz'\n",
            "Content type 'application/x-gzip' length 145493422 bytes (138.8 MB)\n",
            "==================================================\n",
            "downloaded 138.8 MB\n",
            "\n",
            "* installing *source* package ‘affyio’ ...\n",
            "** using staged installation\n",
            "checking for gcc... gcc\n",
            "checking whether the C compiler works... yes\n",
            "checking for C compiler default output file name... a.out\n",
            "checking for suffix of executables... \n",
            "checking whether we are cross compiling... no\n",
            "checking for suffix of object files... o\n",
            "checking whether we are using the GNU C compiler... yes\n",
            "checking whether gcc accepts -g... yes\n",
            "checking for gcc option to accept ISO C89... none needed\n",
            "checking how to run the C preprocessor... gcc -E\n",
            "checking for grep that handles long lines and -e... /bin/grep\n",
            "checking for egrep... /bin/grep -E\n",
            "checking for ANSI C header files... yes\n",
            "checking for sys/types.h... yes\n",
            "checking for sys/stat.h... yes\n",
            "checking for stdlib.h... yes\n",
            "checking for string.h... yes\n",
            "checking for memory.h... yes\n",
            "checking for strings.h... yes\n",
            "checking for inttypes.h... yes\n",
            "checking for stdint.h... yes\n",
            "checking for unistd.h... yes\n",
            "checking for main in -lz... yes\n",
            "checking zlib.h usability... yes\n",
            "checking zlib.h presence... yes\n",
            "checking for zlib.h... yes\n",
            "checking if zlib version >= 1.1.3... yes\n",
            "checking for pthread_create in -lpthread... yes\n",
            "checking if we can use pthreads... yes\n",
            "checking if PTHREAD_STACK_MIN is defined... yes\n",
            "configure: Enabling threading for affyio\n",
            "configure: creating ./config.status\n",
            "config.status: creating src/Makevars\n",
            "** libs\n",
            "gcc -std=gnu99 -I\"/usr/share/R/include\" -DNDEBUG -DPACKAGE_NAME=\\\"\\\" -DPACKAGE_TARNAME=\\\"\\\" -DPACKAGE_VERSION=\\\"\\\" -DPACKAGE_STRING=\\\"\\\" -DPACKAGE_BUGREPORT=\\\"\\\" -DPACKAGE_URL=\\\"\\\" -DSTDC_HEADERS=1 -DHAVE_SYS_TYPES_H=1 -DHAVE_SYS_STAT_H=1 -DHAVE_STDLIB_H=1 -DHAVE_STRING_H=1 -DHAVE_MEMORY_H=1 -DHAVE_STRINGS_H=1 -DHAVE_INTTYPES_H=1 -DHAVE_STDINT_H=1 -DHAVE_UNISTD_H=1 -DHAVE_ZLIB=1 -DHAVE_LIBPTHREAD=1 -DUSE_PTHREADS=1   -g -O2   -fpic  -g -O2 -fdebug-prefix-map=/build/r-base-V28x5H/r-base-3.6.3=. -fstack-protector-strong -Wformat -Werror=format-security -Wdate-time -D_FORTIFY_SOURCE=2 -g  -c fread_functions.c -o fread_functions.o\n",
            "gcc -std=gnu99 -I\"/usr/share/R/include\" -DNDEBUG -DPACKAGE_NAME=\\\"\\\" -DPACKAGE_TARNAME=\\\"\\\" -DPACKAGE_VERSION=\\\"\\\" -DPACKAGE_STRING=\\\"\\\" -DPACKAGE_BUGREPORT=\\\"\\\" -DPACKAGE_URL=\\\"\\\" -DSTDC_HEADERS=1 -DHAVE_SYS_TYPES_H=1 -DHAVE_SYS_STAT_H=1 -DHAVE_STDLIB_H=1 -DHAVE_STRING_H=1 -DHAVE_MEMORY_H=1 -DHAVE_STRINGS_H=1 -DHAVE_INTTYPES_H=1 -DHAVE_STDINT_H=1 -DHAVE_UNISTD_H=1 -DHAVE_ZLIB=1 -DHAVE_LIBPTHREAD=1 -DUSE_PTHREADS=1   -g -O2   -fpic  -g -O2 -fdebug-prefix-map=/build/r-base-V28x5H/r-base-3.6.3=. -fstack-protector-strong -Wformat -Werror=format-security -Wdate-time -D_FORTIFY_SOURCE=2 -g  -c init_package.c -o init_package.o\n",
            "gcc -std=gnu99 -I\"/usr/share/R/include\" -DNDEBUG -DPACKAGE_NAME=\\\"\\\" -DPACKAGE_TARNAME=\\\"\\\" -DPACKAGE_VERSION=\\\"\\\" -DPACKAGE_STRING=\\\"\\\" -DPACKAGE_BUGREPORT=\\\"\\\" -DPACKAGE_URL=\\\"\\\" -DSTDC_HEADERS=1 -DHAVE_SYS_TYPES_H=1 -DHAVE_SYS_STAT_H=1 -DHAVE_STDLIB_H=1 -DHAVE_STRING_H=1 -DHAVE_MEMORY_H=1 -DHAVE_STRINGS_H=1 -DHAVE_INTTYPES_H=1 -DHAVE_STDINT_H=1 -DHAVE_UNISTD_H=1 -DHAVE_ZLIB=1 -DHAVE_LIBPTHREAD=1 -DUSE_PTHREADS=1   -g -O2   -fpic  -g -O2 -fdebug-prefix-map=/build/r-base-V28x5H/r-base-3.6.3=. -fstack-protector-strong -Wformat -Werror=format-security -Wdate-time -D_FORTIFY_SOURCE=2 -g  -c read_abatch.c -o read_abatch.o\n",
            "gcc -std=gnu99 -I\"/usr/share/R/include\" -DNDEBUG -DPACKAGE_NAME=\\\"\\\" -DPACKAGE_TARNAME=\\\"\\\" -DPACKAGE_VERSION=\\\"\\\" -DPACKAGE_STRING=\\\"\\\" -DPACKAGE_BUGREPORT=\\\"\\\" -DPACKAGE_URL=\\\"\\\" -DSTDC_HEADERS=1 -DHAVE_SYS_TYPES_H=1 -DHAVE_SYS_STAT_H=1 -DHAVE_STDLIB_H=1 -DHAVE_STRING_H=1 -DHAVE_MEMORY_H=1 -DHAVE_STRINGS_H=1 -DHAVE_INTTYPES_H=1 -DHAVE_STDINT_H=1 -DHAVE_UNISTD_H=1 -DHAVE_ZLIB=1 -DHAVE_LIBPTHREAD=1 -DUSE_PTHREADS=1   -g -O2   -fpic  -g -O2 -fdebug-prefix-map=/build/r-base-V28x5H/r-base-3.6.3=. -fstack-protector-strong -Wformat -Werror=format-security -Wdate-time -D_FORTIFY_SOURCE=2 -g  -c read_bpmap.c -o read_bpmap.o\n",
            "gcc -std=gnu99 -I\"/usr/share/R/include\" -DNDEBUG -DPACKAGE_NAME=\\\"\\\" -DPACKAGE_TARNAME=\\\"\\\" -DPACKAGE_VERSION=\\\"\\\" -DPACKAGE_STRING=\\\"\\\" -DPACKAGE_BUGREPORT=\\\"\\\" -DPACKAGE_URL=\\\"\\\" -DSTDC_HEADERS=1 -DHAVE_SYS_TYPES_H=1 -DHAVE_SYS_STAT_H=1 -DHAVE_STDLIB_H=1 -DHAVE_STRING_H=1 -DHAVE_MEMORY_H=1 -DHAVE_STRINGS_H=1 -DHAVE_INTTYPES_H=1 -DHAVE_STDINT_H=1 -DHAVE_UNISTD_H=1 -DHAVE_ZLIB=1 -DHAVE_LIBPTHREAD=1 -DUSE_PTHREADS=1   -g -O2   -fpic  -g -O2 -fdebug-prefix-map=/build/r-base-V28x5H/r-base-3.6.3=. -fstack-protector-strong -Wformat -Werror=format-security -Wdate-time -D_FORTIFY_SOURCE=2 -g  -c read_cdf_xda.c -o read_cdf_xda.o\n",
            "gcc -std=gnu99 -I\"/usr/share/R/include\" -DNDEBUG -DPACKAGE_NAME=\\\"\\\" -DPACKAGE_TARNAME=\\\"\\\" -DPACKAGE_VERSION=\\\"\\\" -DPACKAGE_STRING=\\\"\\\" -DPACKAGE_BUGREPORT=\\\"\\\" -DPACKAGE_URL=\\\"\\\" -DSTDC_HEADERS=1 -DHAVE_SYS_TYPES_H=1 -DHAVE_SYS_STAT_H=1 -DHAVE_STDLIB_H=1 -DHAVE_STRING_H=1 -DHAVE_MEMORY_H=1 -DHAVE_STRINGS_H=1 -DHAVE_INTTYPES_H=1 -DHAVE_STDINT_H=1 -DHAVE_UNISTD_H=1 -DHAVE_ZLIB=1 -DHAVE_LIBPTHREAD=1 -DUSE_PTHREADS=1   -g -O2   -fpic  -g -O2 -fdebug-prefix-map=/build/r-base-V28x5H/r-base-3.6.3=. -fstack-protector-strong -Wformat -Werror=format-security -Wdate-time -D_FORTIFY_SOURCE=2 -g  -c read_cdffile2.c -o read_cdffile2.o\n",
            "gcc -std=gnu99 -I\"/usr/share/R/include\" -DNDEBUG -DPACKAGE_NAME=\\\"\\\" -DPACKAGE_TARNAME=\\\"\\\" -DPACKAGE_VERSION=\\\"\\\" -DPACKAGE_STRING=\\\"\\\" -DPACKAGE_BUGREPORT=\\\"\\\" -DPACKAGE_URL=\\\"\\\" -DSTDC_HEADERS=1 -DHAVE_SYS_TYPES_H=1 -DHAVE_SYS_STAT_H=1 -DHAVE_STDLIB_H=1 -DHAVE_STRING_H=1 -DHAVE_MEMORY_H=1 -DHAVE_STRINGS_H=1 -DHAVE_INTTYPES_H=1 -DHAVE_STDINT_H=1 -DHAVE_UNISTD_H=1 -DHAVE_ZLIB=1 -DHAVE_LIBPTHREAD=1 -DUSE_PTHREADS=1   -g -O2   -fpic  -g -O2 -fdebug-prefix-map=/build/r-base-V28x5H/r-base-3.6.3=. -fstack-protector-strong -Wformat -Werror=format-security -Wdate-time -D_FORTIFY_SOURCE=2 -g  -c read_celfile_generic.c -o read_celfile_generic.o\n"
          ]
        },
        {
          "name": "stdout",
          "output_type": "stream",
          "text": [
            "gcc -std=gnu99 -I\"/usr/share/R/include\" -DNDEBUG -DPACKAGE_NAME=\\\"\\\" -DPACKAGE_TARNAME=\\\"\\\" -DPACKAGE_VERSION=\\\"\\\" -DPACKAGE_STRING=\\\"\\\" -DPACKAGE_BUGREPORT=\\\"\\\" -DPACKAGE_URL=\\\"\\\" -DSTDC_HEADERS=1 -DHAVE_SYS_TYPES_H=1 -DHAVE_SYS_STAT_H=1 -DHAVE_STDLIB_H=1 -DHAVE_STRING_H=1 -DHAVE_MEMORY_H=1 -DHAVE_STRINGS_H=1 -DHAVE_INTTYPES_H=1 -DHAVE_STDINT_H=1 -DHAVE_UNISTD_H=1 -DHAVE_ZLIB=1 -DHAVE_LIBPTHREAD=1 -DUSE_PTHREADS=1   -g -O2   -fpic  -g -O2 -fdebug-prefix-map=/build/r-base-V28x5H/r-base-3.6.3=. -fstack-protector-strong -Wformat -Werror=format-security -Wdate-time -D_FORTIFY_SOURCE=2 -g  -c read_clf.c -o read_clf.o\n",
            "gcc -std=gnu99 -I\"/usr/share/R/include\" -DNDEBUG -DPACKAGE_NAME=\\\"\\\" -DPACKAGE_TARNAME=\\\"\\\" -DPACKAGE_VERSION=\\\"\\\" -DPACKAGE_STRING=\\\"\\\" -DPACKAGE_BUGREPORT=\\\"\\\" -DPACKAGE_URL=\\\"\\\" -DSTDC_HEADERS=1 -DHAVE_SYS_TYPES_H=1 -DHAVE_SYS_STAT_H=1 -DHAVE_STDLIB_H=1 -DHAVE_STRING_H=1 -DHAVE_MEMORY_H=1 -DHAVE_STRINGS_H=1 -DHAVE_INTTYPES_H=1 -DHAVE_STDINT_H=1 -DHAVE_UNISTD_H=1 -DHAVE_ZLIB=1 -DHAVE_LIBPTHREAD=1 -DUSE_PTHREADS=1   -g -O2   -fpic  -g -O2 -fdebug-prefix-map=/build/r-base-V28x5H/r-base-3.6.3=. -fstack-protector-strong -Wformat -Werror=format-security -Wdate-time -D_FORTIFY_SOURCE=2 -g  -c read_generic.c -o read_generic.o\n",
            "gcc -std=gnu99 -I\"/usr/share/R/include\" -DNDEBUG -DPACKAGE_NAME=\\\"\\\" -DPACKAGE_TARNAME=\\\"\\\" -DPACKAGE_VERSION=\\\"\\\" -DPACKAGE_STRING=\\\"\\\" -DPACKAGE_BUGREPORT=\\\"\\\" -DPACKAGE_URL=\\\"\\\" -DSTDC_HEADERS=1 -DHAVE_SYS_TYPES_H=1 -DHAVE_SYS_STAT_H=1 -DHAVE_STDLIB_H=1 -DHAVE_STRING_H=1 -DHAVE_MEMORY_H=1 -DHAVE_STRINGS_H=1 -DHAVE_INTTYPES_H=1 -DHAVE_STDINT_H=1 -DHAVE_UNISTD_H=1 -DHAVE_ZLIB=1 -DHAVE_LIBPTHREAD=1 -DUSE_PTHREADS=1   -g -O2   -fpic  -g -O2 -fdebug-prefix-map=/build/r-base-V28x5H/r-base-3.6.3=. -fstack-protector-strong -Wformat -Werror=format-security -Wdate-time -D_FORTIFY_SOURCE=2 -g  -c read_multichannel_celfile_generic.c -o read_multichannel_celfile_generic.o\n",
            "gcc -std=gnu99 -I\"/usr/share/R/include\" -DNDEBUG -DPACKAGE_NAME=\\\"\\\" -DPACKAGE_TARNAME=\\\"\\\" -DPACKAGE_VERSION=\\\"\\\" -DPACKAGE_STRING=\\\"\\\" -DPACKAGE_BUGREPORT=\\\"\\\" -DPACKAGE_URL=\\\"\\\" -DSTDC_HEADERS=1 -DHAVE_SYS_TYPES_H=1 -DHAVE_SYS_STAT_H=1 -DHAVE_STDLIB_H=1 -DHAVE_STRING_H=1 -DHAVE_MEMORY_H=1 -DHAVE_STRINGS_H=1 -DHAVE_INTTYPES_H=1 -DHAVE_STDINT_H=1 -DHAVE_UNISTD_H=1 -DHAVE_ZLIB=1 -DHAVE_LIBPTHREAD=1 -DUSE_PTHREADS=1   -g -O2   -fpic  -g -O2 -fdebug-prefix-map=/build/r-base-V28x5H/r-base-3.6.3=. -fstack-protector-strong -Wformat -Werror=format-security -Wdate-time -D_FORTIFY_SOURCE=2 -g  -c read_pgf.c -o read_pgf.o\n",
            "gcc -std=gnu99 -shared -L/usr/lib/R/lib -Wl,-Bsymbolic-functions -Wl,-z,relro -o affyio.so fread_functions.o init_package.o read_abatch.o read_bpmap.o read_cdf_xda.o read_cdffile2.o read_celfile_generic.o read_clf.o read_generic.o read_multichannel_celfile_generic.o read_pgf.o -lpthread -lz -L/usr/lib/R/lib -lR\n",
            "installing to /usr/local/lib/R/site-library/00LOCK-affyio/00new/affyio/libs\n",
            "** R\n",
            "** byte-compile and prepare package for lazy loading\n",
            "** help\n",
            "*** installing help indices\n",
            "** building package indices\n",
            "** testing if installed package can be loaded from temporary location\n",
            "** checking absolute paths in shared objects and dynamic libraries\n",
            "** testing if installed package can be loaded from final location\n",
            "** testing if installed package keeps a record of temporary installation path\n",
            "* DONE (affyio)\n",
            "* installing *source* package ‘Biostrings’ ...\n",
            "** using staged installation\n",
            "** libs\n",
            "gcc -std=gnu99 -I\"/usr/share/R/include\" -DNDEBUG  -I\"/usr/local/lib/R/site-library/S4Vectors/include\" -I\"/usr/local/lib/R/site-library/IRanges/include\" -I\"/usr/local/lib/R/site-library/XVector/include\"   -fpic  -g -O2 -fdebug-prefix-map=/build/r-base-V28x5H/r-base-3.6.3=. -fstack-protector-strong -Wformat -Werror=format-security -Wdate-time -D_FORTIFY_SOURCE=2 -g  -c BAB_class.c -o BAB_class.o\n",
            "gcc -std=gnu99 -I\"/usr/share/R/include\" -DNDEBUG  -I\"/usr/local/lib/R/site-library/S4Vectors/include\" -I\"/usr/local/lib/R/site-library/IRanges/include\" -I\"/usr/local/lib/R/site-library/XVector/include\"   -fpic  -g -O2 -fdebug-prefix-map=/build/r-base-V28x5H/r-base-3.6.3=. -fstack-protector-strong -Wformat -Werror=format-security -Wdate-time -D_FORTIFY_SOURCE=2 -g  -c BitMatrix.c -o BitMatrix.o\n",
            "gcc -std=gnu99 -I\"/usr/share/R/include\" -DNDEBUG  -I\"/usr/local/lib/R/site-library/S4Vectors/include\" -I\"/usr/local/lib/R/site-library/IRanges/include\" -I\"/usr/local/lib/R/site-library/XVector/include\"   -fpic  -g -O2 -fdebug-prefix-map=/build/r-base-V28x5H/r-base-3.6.3=. -fstack-protector-strong -Wformat -Werror=format-security -Wdate-time -D_FORTIFY_SOURCE=2 -g  -c IRanges_stubs.c -o IRanges_stubs.o\n",
            "gcc -std=gnu99 -I\"/usr/share/R/include\" -DNDEBUG  -I\"/usr/local/lib/R/site-library/S4Vectors/include\" -I\"/usr/local/lib/R/site-library/IRanges/include\" -I\"/usr/local/lib/R/site-library/XVector/include\"   -fpic  -g -O2 -fdebug-prefix-map=/build/r-base-V28x5H/r-base-3.6.3=. -fstack-protector-strong -Wformat -Werror=format-security -Wdate-time -D_FORTIFY_SOURCE=2 -g  -c MIndex_class.c -o MIndex_class.o\n",
            "gcc -std=gnu99 -I\"/usr/share/R/include\" -DNDEBUG  -I\"/usr/local/lib/R/site-library/S4Vectors/include\" -I\"/usr/local/lib/R/site-library/IRanges/include\" -I\"/usr/local/lib/R/site-library/XVector/include\"   -fpic  -g -O2 -fdebug-prefix-map=/build/r-base-V28x5H/r-base-3.6.3=. -fstack-protector-strong -Wformat -Werror=format-security -Wdate-time -D_FORTIFY_SOURCE=2 -g  -c PreprocessedTB_class.c -o PreprocessedTB_class.o\n",
            "gcc -std=gnu99 -I\"/usr/share/R/include\" -DNDEBUG  -I\"/usr/local/lib/R/site-library/S4Vectors/include\" -I\"/usr/local/lib/R/site-library/IRanges/include\" -I\"/usr/local/lib/R/site-library/XVector/include\"   -fpic  -g -O2 -fdebug-prefix-map=/build/r-base-V28x5H/r-base-3.6.3=. -fstack-protector-strong -Wformat -Werror=format-security -Wdate-time -D_FORTIFY_SOURCE=2 -g  -c R_init_Biostrings.c -o R_init_Biostrings.o\n",
            "gcc -std=gnu99 -I\"/usr/share/R/include\" -DNDEBUG  -I\"/usr/local/lib/R/site-library/S4Vectors/include\" -I\"/usr/local/lib/R/site-library/IRanges/include\" -I\"/usr/local/lib/R/site-library/XVector/include\"   -fpic  -g -O2 -fdebug-prefix-map=/build/r-base-V28x5H/r-base-3.6.3=. -fstack-protector-strong -Wformat -Werror=format-security -Wdate-time -D_FORTIFY_SOURCE=2 -g  -c RoSeqs_utils.c -o RoSeqs_utils.o\n",
            "gcc -std=gnu99 -I\"/usr/share/R/include\" -DNDEBUG  -I\"/usr/local/lib/R/site-library/S4Vectors/include\" -I\"/usr/local/lib/R/site-library/IRanges/include\" -I\"/usr/local/lib/R/site-library/XVector/include\"   -fpic  -g -O2 -fdebug-prefix-map=/build/r-base-V28x5H/r-base-3.6.3=. -fstack-protector-strong -Wformat -Werror=format-security -Wdate-time -D_FORTIFY_SOURCE=2 -g  -c S4Vectors_stubs.c -o S4Vectors_stubs.o\n",
            "gcc -std=gnu99 -I\"/usr/share/R/include\" -DNDEBUG  -I\"/usr/local/lib/R/site-library/S4Vectors/include\" -I\"/usr/local/lib/R/site-library/IRanges/include\" -I\"/usr/local/lib/R/site-library/XVector/include\"   -fpic  -g -O2 -fdebug-prefix-map=/build/r-base-V28x5H/r-base-3.6.3=. -fstack-protector-strong -Wformat -Werror=format-security -Wdate-time -D_FORTIFY_SOURCE=2 -g  -c SparseList_utils.c -o SparseList_utils.o\n",
            "gcc -std=gnu99 -I\"/usr/share/R/include\" -DNDEBUG  -I\"/usr/local/lib/R/site-library/S4Vectors/include\" -I\"/usr/local/lib/R/site-library/IRanges/include\" -I\"/usr/local/lib/R/site-library/XVector/include\"   -fpic  -g -O2 -fdebug-prefix-map=/build/r-base-V28x5H/r-base-3.6.3=. -fstack-protector-strong -Wformat -Werror=format-security -Wdate-time -D_FORTIFY_SOURCE=2 -g  -c XStringSetList_class.c -o XStringSetList_class.o\n",
            "gcc -std=gnu99 -I\"/usr/share/R/include\" -DNDEBUG  -I\"/usr/local/lib/R/site-library/S4Vectors/include\" -I\"/usr/local/lib/R/site-library/IRanges/include\" -I\"/usr/local/lib/R/site-library/XVector/include\"   -fpic  -g -O2 -fdebug-prefix-map=/build/r-base-V28x5H/r-base-3.6.3=. -fstack-protector-strong -Wformat -Werror=format-security -Wdate-time -D_FORTIFY_SOURCE=2 -g  -c XStringSet_class.c -o XStringSet_class.o\n",
            "gcc -std=gnu99 -I\"/usr/share/R/include\" -DNDEBUG  -I\"/usr/local/lib/R/site-library/S4Vectors/include\" -I\"/usr/local/lib/R/site-library/IRanges/include\" -I\"/usr/local/lib/R/site-library/XVector/include\"   -fpic  -g -O2 -fdebug-prefix-map=/build/r-base-V28x5H/r-base-3.6.3=. -fstack-protector-strong -Wformat -Werror=format-security -Wdate-time -D_FORTIFY_SOURCE=2 -g  -c XString_class.c -o XString_class.o\n"
          ]
        },
        {
          "name": "stdout",
          "output_type": "stream",
          "text": [
            "gcc -std=gnu99 -I\"/usr/share/R/include\" -DNDEBUG  -I\"/usr/local/lib/R/site-library/S4Vectors/include\" -I\"/usr/local/lib/R/site-library/IRanges/include\" -I\"/usr/local/lib/R/site-library/XVector/include\"   -fpic  -g -O2 -fdebug-prefix-map=/build/r-base-V28x5H/r-base-3.6.3=. -fstack-protector-strong -Wformat -Werror=format-security -Wdate-time -D_FORTIFY_SOURCE=2 -g  -c XVector_stubs.c -o XVector_stubs.o\n",
            "gcc -std=gnu99 -I\"/usr/share/R/include\" -DNDEBUG  -I\"/usr/local/lib/R/site-library/S4Vectors/include\" -I\"/usr/local/lib/R/site-library/IRanges/include\" -I\"/usr/local/lib/R/site-library/XVector/include\"   -fpic  -g -O2 -fdebug-prefix-map=/build/r-base-V28x5H/r-base-3.6.3=. -fstack-protector-strong -Wformat -Werror=format-security -Wdate-time -D_FORTIFY_SOURCE=2 -g  -c align_needwunsQS.c -o align_needwunsQS.o\n",
            "gcc -std=gnu99 -I\"/usr/share/R/include\" -DNDEBUG  -I\"/usr/local/lib/R/site-library/S4Vectors/include\" -I\"/usr/local/lib/R/site-library/IRanges/include\" -I\"/usr/local/lib/R/site-library/XVector/include\"   -fpic  -g -O2 -fdebug-prefix-map=/build/r-base-V28x5H/r-base-3.6.3=. -fstack-protector-strong -Wformat -Werror=format-security -Wdate-time -D_FORTIFY_SOURCE=2 -g  -c align_pairwiseAlignment.c -o align_pairwiseAlignment.o\n",
            "gcc -std=gnu99 -I\"/usr/share/R/include\" -DNDEBUG  -I\"/usr/local/lib/R/site-library/S4Vectors/include\" -I\"/usr/local/lib/R/site-library/IRanges/include\" -I\"/usr/local/lib/R/site-library/XVector/include\"   -fpic  -g -O2 -fdebug-prefix-map=/build/r-base-V28x5H/r-base-3.6.3=. -fstack-protector-strong -Wformat -Werror=format-security -Wdate-time -D_FORTIFY_SOURCE=2 -g  -c align_utils.c -o align_utils.o\n",
            "gcc -std=gnu99 -I\"/usr/share/R/include\" -DNDEBUG  -I\"/usr/local/lib/R/site-library/S4Vectors/include\" -I\"/usr/local/lib/R/site-library/IRanges/include\" -I\"/usr/local/lib/R/site-library/XVector/include\"   -fpic  -g -O2 -fdebug-prefix-map=/build/r-base-V28x5H/r-base-3.6.3=. -fstack-protector-strong -Wformat -Werror=format-security -Wdate-time -D_FORTIFY_SOURCE=2 -g  -c find_palindromes.c -o find_palindromes.o\n",
            "gcc -std=gnu99 -I\"/usr/share/R/include\" -DNDEBUG  -I\"/usr/local/lib/R/site-library/S4Vectors/include\" -I\"/usr/local/lib/R/site-library/IRanges/include\" -I\"/usr/local/lib/R/site-library/XVector/include\"   -fpic  -g -O2 -fdebug-prefix-map=/build/r-base-V28x5H/r-base-3.6.3=. -fstack-protector-strong -Wformat -Werror=format-security -Wdate-time -D_FORTIFY_SOURCE=2 -g  -c gtestsim.c -o gtestsim.o\n",
            "gcc -std=gnu99 -I\"/usr/share/R/include\" -DNDEBUG  -I\"/usr/local/lib/R/site-library/S4Vectors/include\" -I\"/usr/local/lib/R/site-library/IRanges/include\" -I\"/usr/local/lib/R/site-library/XVector/include\"   -fpic  -g -O2 -fdebug-prefix-map=/build/r-base-V28x5H/r-base-3.6.3=. -fstack-protector-strong -Wformat -Werror=format-security -Wdate-time -D_FORTIFY_SOURCE=2 -g  -c inject_code.c -o inject_code.o\n",
            "gcc -std=gnu99 -I\"/usr/share/R/include\" -DNDEBUG  -I\"/usr/local/lib/R/site-library/S4Vectors/include\" -I\"/usr/local/lib/R/site-library/IRanges/include\" -I\"/usr/local/lib/R/site-library/XVector/include\"   -fpic  -g -O2 -fdebug-prefix-map=/build/r-base-V28x5H/r-base-3.6.3=. -fstack-protector-strong -Wformat -Werror=format-security -Wdate-time -D_FORTIFY_SOURCE=2 -g  -c letter_frequency.c -o letter_frequency.o\n",
            "gcc -std=gnu99 -I\"/usr/share/R/include\" -DNDEBUG  -I\"/usr/local/lib/R/site-library/S4Vectors/include\" -I\"/usr/local/lib/R/site-library/IRanges/include\" -I\"/usr/local/lib/R/site-library/XVector/include\"   -fpic  -g -O2 -fdebug-prefix-map=/build/r-base-V28x5H/r-base-3.6.3=. -fstack-protector-strong -Wformat -Werror=format-security -Wdate-time -D_FORTIFY_SOURCE=2 -g  -c lowlevel_matching.c -o lowlevel_matching.o\n",
            "gcc -std=gnu99 -I\"/usr/share/R/include\" -DNDEBUG  -I\"/usr/local/lib/R/site-library/S4Vectors/include\" -I\"/usr/local/lib/R/site-library/IRanges/include\" -I\"/usr/local/lib/R/site-library/XVector/include\"   -fpic  -g -O2 -fdebug-prefix-map=/build/r-base-V28x5H/r-base-3.6.3=. -fstack-protector-strong -Wformat -Werror=format-security -Wdate-time -D_FORTIFY_SOURCE=2 -g  -c match_PWM.c -o match_PWM.o\n",
            "gcc -std=gnu99 -I\"/usr/share/R/include\" -DNDEBUG  -I\"/usr/local/lib/R/site-library/S4Vectors/include\" -I\"/usr/local/lib/R/site-library/IRanges/include\" -I\"/usr/local/lib/R/site-library/XVector/include\"   -fpic  -g -O2 -fdebug-prefix-map=/build/r-base-V28x5H/r-base-3.6.3=. -fstack-protector-strong -Wformat -Werror=format-security -Wdate-time -D_FORTIFY_SOURCE=2 -g  -c match_pattern.c -o match_pattern.o\n",
            "gcc -std=gnu99 -I\"/usr/share/R/include\" -DNDEBUG  -I\"/usr/local/lib/R/site-library/S4Vectors/include\" -I\"/usr/local/lib/R/site-library/IRanges/include\" -I\"/usr/local/lib/R/site-library/XVector/include\"   -fpic  -g -O2 -fdebug-prefix-map=/build/r-base-V28x5H/r-base-3.6.3=. -fstack-protector-strong -Wformat -Werror=format-security -Wdate-time -D_FORTIFY_SOURCE=2 -g  -c match_pattern_boyermoore.c -o match_pattern_boyermoore.o\n",
            "gcc -std=gnu99 -I\"/usr/share/R/include\" -DNDEBUG  -I\"/usr/local/lib/R/site-library/S4Vectors/include\" -I\"/usr/local/lib/R/site-library/IRanges/include\" -I\"/usr/local/lib/R/site-library/XVector/include\"   -fpic  -g -O2 -fdebug-prefix-map=/build/r-base-V28x5H/r-base-3.6.3=. -fstack-protector-strong -Wformat -Werror=format-security -Wdate-time -D_FORTIFY_SOURCE=2 -g  -c match_pattern_indels.c -o match_pattern_indels.o\n",
            "gcc -std=gnu99 -I\"/usr/share/R/include\" -DNDEBUG  -I\"/usr/local/lib/R/site-library/S4Vectors/include\" -I\"/usr/local/lib/R/site-library/IRanges/include\" -I\"/usr/local/lib/R/site-library/XVector/include\"   -fpic  -g -O2 -fdebug-prefix-map=/build/r-base-V28x5H/r-base-3.6.3=. -fstack-protector-strong -Wformat -Werror=format-security -Wdate-time -D_FORTIFY_SOURCE=2 -g  -c match_pattern_shiftor.c -o match_pattern_shiftor.o\n",
            "gcc -std=gnu99 -I\"/usr/share/R/include\" -DNDEBUG  -I\"/usr/local/lib/R/site-library/S4Vectors/include\" -I\"/usr/local/lib/R/site-library/IRanges/include\" -I\"/usr/local/lib/R/site-library/XVector/include\"   -fpic  -g -O2 -fdebug-prefix-map=/build/r-base-V28x5H/r-base-3.6.3=. -fstack-protector-strong -Wformat -Werror=format-security -Wdate-time -D_FORTIFY_SOURCE=2 -g  -c match_pdict.c -o match_pdict.o\n",
            "gcc -std=gnu99 -I\"/usr/share/R/include\" -DNDEBUG  -I\"/usr/local/lib/R/site-library/S4Vectors/include\" -I\"/usr/local/lib/R/site-library/IRanges/include\" -I\"/usr/local/lib/R/site-library/XVector/include\"   -fpic  -g -O2 -fdebug-prefix-map=/build/r-base-V28x5H/r-base-3.6.3=. -fstack-protector-strong -Wformat -Werror=format-security -Wdate-time -D_FORTIFY_SOURCE=2 -g  -c match_pdict_ACtree2.c -o match_pdict_ACtree2.o\n",
            "gcc -std=gnu99 -I\"/usr/share/R/include\" -DNDEBUG  -I\"/usr/local/lib/R/site-library/S4Vectors/include\" -I\"/usr/local/lib/R/site-library/IRanges/include\" -I\"/usr/local/lib/R/site-library/XVector/include\"   -fpic  -g -O2 -fdebug-prefix-map=/build/r-base-V28x5H/r-base-3.6.3=. -fstack-protector-strong -Wformat -Werror=format-security -Wdate-time -D_FORTIFY_SOURCE=2 -g  -c match_pdict_Twobit.c -o match_pdict_Twobit.o\n",
            "gcc -std=gnu99 -I\"/usr/share/R/include\" -DNDEBUG  -I\"/usr/local/lib/R/site-library/S4Vectors/include\" -I\"/usr/local/lib/R/site-library/IRanges/include\" -I\"/usr/local/lib/R/site-library/XVector/include\"   -fpic  -g -O2 -fdebug-prefix-map=/build/r-base-V28x5H/r-base-3.6.3=. -fstack-protector-strong -Wformat -Werror=format-security -Wdate-time -D_FORTIFY_SOURCE=2 -g  -c match_pdict_utils.c -o match_pdict_utils.o\n",
            "gcc -std=gnu99 -I\"/usr/share/R/include\" -DNDEBUG  -I\"/usr/local/lib/R/site-library/S4Vectors/include\" -I\"/usr/local/lib/R/site-library/IRanges/include\" -I\"/usr/local/lib/R/site-library/XVector/include\"   -fpic  -g -O2 -fdebug-prefix-map=/build/r-base-V28x5H/r-base-3.6.3=. -fstack-protector-strong -Wformat -Werror=format-security -Wdate-time -D_FORTIFY_SOURCE=2 -g  -c match_reporting.c -o match_reporting.o\n",
            "gcc -std=gnu99 -I\"/usr/share/R/include\" -DNDEBUG  -I\"/usr/local/lib/R/site-library/S4Vectors/include\" -I\"/usr/local/lib/R/site-library/IRanges/include\" -I\"/usr/local/lib/R/site-library/XVector/include\"   -fpic  -g -O2 -fdebug-prefix-map=/build/r-base-V28x5H/r-base-3.6.3=. -fstack-protector-strong -Wformat -Werror=format-security -Wdate-time -D_FORTIFY_SOURCE=2 -g  -c matchprobes.c -o matchprobes.o\n"
          ]
        },
        {
          "name": "stdout",
          "output_type": "stream",
          "text": [
            "gcc -std=gnu99 -I\"/usr/share/R/include\" -DNDEBUG  -I\"/usr/local/lib/R/site-library/S4Vectors/include\" -I\"/usr/local/lib/R/site-library/IRanges/include\" -I\"/usr/local/lib/R/site-library/XVector/include\"   -fpic  -g -O2 -fdebug-prefix-map=/build/r-base-V28x5H/r-base-3.6.3=. -fstack-protector-strong -Wformat -Werror=format-security -Wdate-time -D_FORTIFY_SOURCE=2 -g  -c pmatchPattern.c -o pmatchPattern.o\n",
            "gcc -std=gnu99 -I\"/usr/share/R/include\" -DNDEBUG  -I\"/usr/local/lib/R/site-library/S4Vectors/include\" -I\"/usr/local/lib/R/site-library/IRanges/include\" -I\"/usr/local/lib/R/site-library/XVector/include\"   -fpic  -g -O2 -fdebug-prefix-map=/build/r-base-V28x5H/r-base-3.6.3=. -fstack-protector-strong -Wformat -Werror=format-security -Wdate-time -D_FORTIFY_SOURCE=2 -g  -c read_fasta_files.c -o read_fasta_files.o\n",
            "gcc -std=gnu99 -I\"/usr/share/R/include\" -DNDEBUG  -I\"/usr/local/lib/R/site-library/S4Vectors/include\" -I\"/usr/local/lib/R/site-library/IRanges/include\" -I\"/usr/local/lib/R/site-library/XVector/include\"   -fpic  -g -O2 -fdebug-prefix-map=/build/r-base-V28x5H/r-base-3.6.3=. -fstack-protector-strong -Wformat -Werror=format-security -Wdate-time -D_FORTIFY_SOURCE=2 -g  -c read_fastq_files.c -o read_fastq_files.o\n",
            "gcc -std=gnu99 -I\"/usr/share/R/include\" -DNDEBUG  -I\"/usr/local/lib/R/site-library/S4Vectors/include\" -I\"/usr/local/lib/R/site-library/IRanges/include\" -I\"/usr/local/lib/R/site-library/XVector/include\"   -fpic  -g -O2 -fdebug-prefix-map=/build/r-base-V28x5H/r-base-3.6.3=. -fstack-protector-strong -Wformat -Werror=format-security -Wdate-time -D_FORTIFY_SOURCE=2 -g  -c replaceAt.c -o replaceAt.o\n",
            "gcc -std=gnu99 -I\"/usr/share/R/include\" -DNDEBUG  -I\"/usr/local/lib/R/site-library/S4Vectors/include\" -I\"/usr/local/lib/R/site-library/IRanges/include\" -I\"/usr/local/lib/R/site-library/XVector/include\"   -fpic  -g -O2 -fdebug-prefix-map=/build/r-base-V28x5H/r-base-3.6.3=. -fstack-protector-strong -Wformat -Werror=format-security -Wdate-time -D_FORTIFY_SOURCE=2 -g  -c replace_letter_at.c -o replace_letter_at.o\n",
            "gcc -std=gnu99 -I\"/usr/share/R/include\" -DNDEBUG  -I\"/usr/local/lib/R/site-library/S4Vectors/include\" -I\"/usr/local/lib/R/site-library/IRanges/include\" -I\"/usr/local/lib/R/site-library/XVector/include\"   -fpic  -g -O2 -fdebug-prefix-map=/build/r-base-V28x5H/r-base-3.6.3=. -fstack-protector-strong -Wformat -Werror=format-security -Wdate-time -D_FORTIFY_SOURCE=2 -g  -c strutils.c -o strutils.o\n",
            "gcc -std=gnu99 -I\"/usr/share/R/include\" -DNDEBUG  -I\"/usr/local/lib/R/site-library/S4Vectors/include\" -I\"/usr/local/lib/R/site-library/IRanges/include\" -I\"/usr/local/lib/R/site-library/XVector/include\"   -fpic  -g -O2 -fdebug-prefix-map=/build/r-base-V28x5H/r-base-3.6.3=. -fstack-protector-strong -Wformat -Werror=format-security -Wdate-time -D_FORTIFY_SOURCE=2 -g  -c translate.c -o translate.o\n",
            "gcc -std=gnu99 -I\"/usr/share/R/include\" -DNDEBUG  -I\"/usr/local/lib/R/site-library/S4Vectors/include\" -I\"/usr/local/lib/R/site-library/IRanges/include\" -I\"/usr/local/lib/R/site-library/XVector/include\"   -fpic  -g -O2 -fdebug-prefix-map=/build/r-base-V28x5H/r-base-3.6.3=. -fstack-protector-strong -Wformat -Werror=format-security -Wdate-time -D_FORTIFY_SOURCE=2 -g  -c unstrsplit_methods.c -o unstrsplit_methods.o\n",
            "gcc -std=gnu99 -I\"/usr/share/R/include\" -DNDEBUG  -I\"/usr/local/lib/R/site-library/S4Vectors/include\" -I\"/usr/local/lib/R/site-library/IRanges/include\" -I\"/usr/local/lib/R/site-library/XVector/include\"   -fpic  -g -O2 -fdebug-prefix-map=/build/r-base-V28x5H/r-base-3.6.3=. -fstack-protector-strong -Wformat -Werror=format-security -Wdate-time -D_FORTIFY_SOURCE=2 -g  -c utils.c -o utils.o\n",
            "gcc -std=gnu99 -I\"/usr/share/R/include\" -DNDEBUG  -I\"/usr/local/lib/R/site-library/S4Vectors/include\" -I\"/usr/local/lib/R/site-library/IRanges/include\" -I\"/usr/local/lib/R/site-library/XVector/include\"   -fpic  -g -O2 -fdebug-prefix-map=/build/r-base-V28x5H/r-base-3.6.3=. -fstack-protector-strong -Wformat -Werror=format-security -Wdate-time -D_FORTIFY_SOURCE=2 -g  -c xscat.c -o xscat.o\n",
            "gcc -std=gnu99 -shared -L/usr/lib/R/lib -Wl,-Bsymbolic-functions -Wl,-z,relro -o Biostrings.so BAB_class.o BitMatrix.o IRanges_stubs.o MIndex_class.o PreprocessedTB_class.o R_init_Biostrings.o RoSeqs_utils.o S4Vectors_stubs.o SparseList_utils.o XStringSetList_class.o XStringSet_class.o XString_class.o XVector_stubs.o align_needwunsQS.o align_pairwiseAlignment.o align_utils.o find_palindromes.o gtestsim.o inject_code.o letter_frequency.o lowlevel_matching.o match_PWM.o match_pattern.o match_pattern_boyermoore.o match_pattern_indels.o match_pattern_shiftor.o match_pdict.o match_pdict_ACtree2.o match_pdict_Twobit.o match_pdict_utils.o match_reporting.o matchprobes.o pmatchPattern.o read_fasta_files.o read_fastq_files.o replaceAt.o replace_letter_at.o strutils.o translate.o unstrsplit_methods.o utils.o xscat.o -L/usr/lib/R/lib -lR\n",
            "installing to /usr/local/lib/R/site-library/00LOCK-Biostrings/00new/Biostrings/libs\n",
            "** R\n",
            "** data\n",
            "** inst\n",
            "** byte-compile and prepare package for lazy loading\n",
            "in method for ‘twoWayAlphabetFrequencyByQuality’ with signature ‘\"QualityScaledXStringSet\"’: no definition for class “QualityScaledXStringSet”\n",
            "Creating a new generic function for ‘strsplit’ in package ‘Biostrings’\n",
            "Creating a generic function for ‘ls’ from package ‘base’ in package ‘Biostrings’\n",
            "Creating a new generic function for ‘offset’ in package ‘Biostrings’\n",
            "** help\n",
            "*** installing help indices\n",
            "** building package indices\n",
            "** installing vignettes\n",
            "** testing if installed package can be loaded from temporary location\n",
            "** checking absolute paths in shared objects and dynamic libraries\n",
            "** testing if installed package can be loaded from final location\n",
            "** testing if installed package keeps a record of temporary installation path\n",
            "* DONE (Biostrings)\n",
            "* installing *source* package ‘org.Mm.eg.db’ ...\n",
            "** using staged installation\n",
            "** R\n",
            "** inst\n",
            "** byte-compile and prepare package for lazy loading\n",
            "** help\n",
            "*** installing help indices\n",
            "** building package indices\n",
            "** testing if installed package can be loaded from temporary location\n",
            "** testing if installed package can be loaded from final location\n",
            "** testing if installed package keeps a record of temporary installation path\n",
            "* DONE (org.Mm.eg.db)\n",
            "* installing *source* package ‘clue’ ...\n",
            "** package ‘clue’ successfully unpacked and MD5 sums checked\n",
            "** using staged installation\n",
            "** libs\n",
            "gcc -std=gnu99 -I\"/usr/share/R/include\" -DNDEBUG     -fpic  -g -O2 -fdebug-prefix-map=/build/r-base-V28x5H/r-base-3.6.3=. -fstack-protector-strong -Wformat -Werror=format-security -Wdate-time -D_FORTIFY_SOURCE=2 -g  -c assignment.c -o assignment.o\n",
            "gcc -std=gnu99 -I\"/usr/share/R/include\" -DNDEBUG     -fpic  -g -O2 -fdebug-prefix-map=/build/r-base-V28x5H/r-base-3.6.3=. -fstack-protector-strong -Wformat -Werror=format-security -Wdate-time -D_FORTIFY_SOURCE=2 -g  -c clue.c -o clue.o\n",
            "gcc -std=gnu99 -I\"/usr/share/R/include\" -DNDEBUG     -fpic  -g -O2 -fdebug-prefix-map=/build/r-base-V28x5H/r-base-3.6.3=. -fstack-protector-strong -Wformat -Werror=format-security -Wdate-time -D_FORTIFY_SOURCE=2 -g  -c init.c -o init.o\n",
            "gcc -std=gnu99 -I\"/usr/share/R/include\" -DNDEBUG     -fpic  -g -O2 -fdebug-prefix-map=/build/r-base-V28x5H/r-base-3.6.3=. -fstack-protector-strong -Wformat -Werror=format-security -Wdate-time -D_FORTIFY_SOURCE=2 -g  -c lsap.c -o lsap.o\n",
            "gcc -std=gnu99 -I\"/usr/share/R/include\" -DNDEBUG     -fpic  -g -O2 -fdebug-prefix-map=/build/r-base-V28x5H/r-base-3.6.3=. -fstack-protector-strong -Wformat -Werror=format-security -Wdate-time -D_FORTIFY_SOURCE=2 -g  -c trees.c -o trees.o\n",
            "gcc -std=gnu99 -shared -L/usr/lib/R/lib -Wl,-Bsymbolic-functions -Wl,-z,relro -o clue.so assignment.o clue.o init.o lsap.o trees.o -L/usr/lib/R/lib -lR\n",
            "installing to /usr/local/lib/R/site-library/00LOCK-clue/00new/clue/libs\n",
            "** R\n",
            "** data\n",
            "** inst\n",
            "** byte-compile and prepare package for lazy loading\n",
            "** help\n",
            "*** installing help indices\n",
            "** building package indices\n",
            "** installing vignettes\n",
            "** testing if installed package can be loaded from temporary location\n",
            "** checking absolute paths in shared objects and dynamic libraries\n",
            "** testing if installed package can be loaded from final location\n",
            "** testing if installed package keeps a record of temporary installation path\n"
          ]
        },
        {
          "name": "stdout",
          "output_type": "stream",
          "text": [
            "* DONE (clue)\n",
            "* installing *source* package ‘affy’ ...\n",
            "** using staged installation\n",
            "creating cache ./config.cache\n",
            "checking how to run the C preprocessor... cc -E\n",
            "checking for main in -lz... yes\n",
            "checking for zlib.h... yes\n",
            "checking if zlib version >= 1.1.3... yes\n",
            "updating cache ./config.cache\n",
            "creating ./config.status\n",
            "creating src/Makevars\n",
            "** libs\n",
            "gcc -std=gnu99 -I\"/usr/share/R/include\" -DNDEBUG -DHAVE_ZLIB=1  -I\"/usr/local/lib/R/site-library/preprocessCore/include\"   -fpic  -g -O2 -fdebug-prefix-map=/build/r-base-V28x5H/r-base-3.6.3=. -fstack-protector-strong -Wformat -Werror=format-security -Wdate-time -D_FORTIFY_SOURCE=2 -g  -c chipbackground.c -o chipbackground.o\n",
            "gcc -std=gnu99 -I\"/usr/share/R/include\" -DNDEBUG -DHAVE_ZLIB=1  -I\"/usr/local/lib/R/site-library/preprocessCore/include\"   -fpic  -g -O2 -fdebug-prefix-map=/build/r-base-V28x5H/r-base-3.6.3=. -fstack-protector-strong -Wformat -Werror=format-security -Wdate-time -D_FORTIFY_SOURCE=2 -g  -c getall_locations.c -o getall_locations.o\n",
            "gcc -std=gnu99 -I\"/usr/share/R/include\" -DNDEBUG -DHAVE_ZLIB=1  -I\"/usr/local/lib/R/site-library/preprocessCore/include\"   -fpic  -g -O2 -fdebug-prefix-map=/build/r-base-V28x5H/r-base-3.6.3=. -fstack-protector-strong -Wformat -Werror=format-security -Wdate-time -D_FORTIFY_SOURCE=2 -g  -c mas5calls.c -o mas5calls.o\n",
            "gcc -std=gnu99 -I\"/usr/share/R/include\" -DNDEBUG -DHAVE_ZLIB=1  -I\"/usr/local/lib/R/site-library/preprocessCore/include\"   -fpic  -g -O2 -fdebug-prefix-map=/build/r-base-V28x5H/r-base-3.6.3=. -fstack-protector-strong -Wformat -Werror=format-security -Wdate-time -D_FORTIFY_SOURCE=2 -g  -c rma2.c -o rma2.o\n",
            "gcc -std=gnu99 -I\"/usr/share/R/include\" -DNDEBUG -DHAVE_ZLIB=1  -I\"/usr/local/lib/R/site-library/preprocessCore/include\"   -fpic  -g -O2 -fdebug-prefix-map=/build/r-base-V28x5H/r-base-3.6.3=. -fstack-protector-strong -Wformat -Werror=format-security -Wdate-time -D_FORTIFY_SOURCE=2 -g  -c rma_common.c -o rma_common.o\n",
            "gcc -std=gnu99 -shared -L/usr/lib/R/lib -Wl,-Bsymbolic-functions -Wl,-z,relro -o affy.so chipbackground.o getall_locations.o mas5calls.o rma2.o rma_common.o -lz -L/usr/lib/R/lib -lR\n",
            "installing to /usr/local/lib/R/site-library/00LOCK-affy/00new/affy/libs\n",
            "** R\n",
            "** data\n",
            "** demo\n",
            "** inst\n",
            "** byte-compile and prepare package for lazy loading\n",
            "** help\n",
            "*** installing help indices\n",
            "** building package indices\n",
            "** installing vignettes\n",
            "** testing if installed package can be loaded from temporary location\n",
            "** checking absolute paths in shared objects and dynamic libraries\n",
            "** testing if installed package can be loaded from final location\n",
            "** testing if installed package keeps a record of temporary installation path\n",
            "* DONE (affy)\n",
            "* installing *source* package ‘KEGGREST’ ...\n",
            "** using staged installation\n",
            "** R\n",
            "** inst\n",
            "** byte-compile and prepare package for lazy loading\n",
            "** help\n",
            "*** installing help indices\n",
            "** building package indices\n",
            "** installing vignettes\n",
            "** testing if installed package can be loaded from temporary location\n",
            "** testing if installed package can be loaded from final location\n",
            "** testing if installed package keeps a record of temporary installation path\n",
            "* DONE (KEGGREST)\n",
            "* installing *source* package ‘mouse4302.db’ ...\n",
            "** using staged installation\n",
            "** R\n",
            "** inst\n",
            "** byte-compile and prepare package for lazy loading\n",
            "** help\n",
            "*** installing help indices\n",
            "** building package indices\n",
            "** testing if installed package can be loaded from temporary location\n",
            "** testing if installed package can be loaded from final location\n",
            "** testing if installed package keeps a record of temporary installation path\n",
            "* DONE (mouse4302.db)\n",
            "* installing *source* package ‘Hiiragi2013’ ...\n",
            "** using staged installation\n",
            "** R\n",
            "** data\n",
            "** inst\n",
            "** byte-compile and prepare package for lazy loading\n",
            "** help\n",
            "*** installing help indices\n",
            "** building package indices\n",
            "** installing vignettes\n",
            "** testing if installed package can be loaded from temporary location\n",
            "** testing if installed package can be loaded from final location\n",
            "** testing if installed package keeps a record of temporary installation path\n",
            "* DONE (Hiiragi2013)\n",
            "\n",
            "The downloaded source packages are in\n",
            "\t‘/tmp/RtmpOt62hJ/downloaded_packages’\n",
            "> \n",
            "> \n"
          ]
        }
      ],
      "source": [
        "!sudo R -e 'BiocManager::install(c(\"Hiiragi2013\"), update = F, ask = FALSE)'"
      ]
    },
    {
      "cell_type": "code",
      "execution_count": null,
      "metadata": {
        "kernel": "R",
        "id": "kHlxlxOblHR9",
        "outputId": "fecccb82-2ebe-4a9a-b3a6-0c4aa7f53476"
      },
      "outputs": [
        {
          "name": "stderr",
          "output_type": "stream",
          "text": [
            "\n",
            "Attaching package: ‘reshape’\n",
            "\n",
            "\n",
            "The following object is masked from ‘package:dplyr’:\n",
            "\n",
            "    rename\n",
            "\n",
            "\n",
            "The following objects are masked from ‘package:tidyr’:\n",
            "\n",
            "    expand, smiths\n",
            "\n",
            "\n",
            "The following objects are masked from ‘package:S4Vectors’:\n",
            "\n",
            "    expand, rename\n",
            "\n",
            "\n"
          ]
        },
        {
          "data": {
            "text/html": [
              "<table class=\"dataframe\">\n",
              "<caption>A data.frame: 6 × 4</caption>\n",
              "<thead>\n",
              "\t<tr><th></th><th scope=col>probe</th><th scope=col>sample</th><th scope=col>value</th><th scope=col>gene</th></tr>\n",
              "\t<tr><th></th><th scope=col>&lt;fct&gt;</th><th scope=col>&lt;fct&gt;</th><th scope=col>&lt;dbl&gt;</th><th scope=col>&lt;chr&gt;</th></tr>\n",
              "</thead>\n",
              "<tbody>\n",
              "\t<tr><th scope=row>1</th><td>1420085_at</td><td>1 E3.25</td><td>3.027715</td><td>Fgf4 </td></tr>\n",
              "\t<tr><th scope=row>2</th><td>1418863_at</td><td>1 E3.25</td><td>4.843137</td><td>Gata4</td></tr>\n",
              "\t<tr><th scope=row>3</th><td>1425463_at</td><td>1 E3.25</td><td>5.500618</td><td>Gata6</td></tr>\n",
              "\t<tr><th scope=row>4</th><td>1416967_at</td><td>1 E3.25</td><td>1.731217</td><td>Sox2 </td></tr>\n",
              "\t<tr><th scope=row>5</th><td>1420085_at</td><td>2 E3.25</td><td>9.293016</td><td>Fgf4 </td></tr>\n",
              "\t<tr><th scope=row>6</th><td>1418863_at</td><td>2 E3.25</td><td>5.530016</td><td>Gata4</td></tr>\n",
              "</tbody>\n",
              "</table>\n"
            ],
            "text/latex": [
              "A data.frame: 6 × 4\n",
              "\\begin{tabular}{r|llll}\n",
              "  & probe & sample & value & gene\\\\\n",
              "  & <fct> & <fct> & <dbl> & <chr>\\\\\n",
              "\\hline\n",
              "\t1 & 1420085\\_at & 1 E3.25 & 3.027715 & Fgf4 \\\\\n",
              "\t2 & 1418863\\_at & 1 E3.25 & 4.843137 & Gata4\\\\\n",
              "\t3 & 1425463\\_at & 1 E3.25 & 5.500618 & Gata6\\\\\n",
              "\t4 & 1416967\\_at & 1 E3.25 & 1.731217 & Sox2 \\\\\n",
              "\t5 & 1420085\\_at & 2 E3.25 & 9.293016 & Fgf4 \\\\\n",
              "\t6 & 1418863\\_at & 2 E3.25 & 5.530016 & Gata4\\\\\n",
              "\\end{tabular}\n"
            ],
            "text/markdown": [
              "\n",
              "A data.frame: 6 × 4\n",
              "\n",
              "| <!--/--> | probe &lt;fct&gt; | sample &lt;fct&gt; | value &lt;dbl&gt; | gene &lt;chr&gt; |\n",
              "|---|---|---|---|---|\n",
              "| 1 | 1420085_at | 1 E3.25 | 3.027715 | Fgf4  |\n",
              "| 2 | 1418863_at | 1 E3.25 | 4.843137 | Gata4 |\n",
              "| 3 | 1425463_at | 1 E3.25 | 5.500618 | Gata6 |\n",
              "| 4 | 1416967_at | 1 E3.25 | 1.731217 | Sox2  |\n",
              "| 5 | 1420085_at | 2 E3.25 | 9.293016 | Fgf4  |\n",
              "| 6 | 1418863_at | 2 E3.25 | 5.530016 | Gata4 |\n",
              "\n"
            ],
            "text/plain": [
              "  probe      sample  value    gene \n",
              "1 1420085_at 1 E3.25 3.027715 Fgf4 \n",
              "2 1418863_at 1 E3.25 4.843137 Gata4\n",
              "3 1425463_at 1 E3.25 5.500618 Gata6\n",
              "4 1416967_at 1 E3.25 1.731217 Sox2 \n",
              "5 1420085_at 2 E3.25 9.293016 Fgf4 \n",
              "6 1418863_at 2 E3.25 5.530016 Gata4"
            ]
          },
          "metadata": {},
          "output_type": "display_data"
        }
      ],
      "source": [
        "## Run the code to get the data\n",
        "\n",
        "library(\"Hiiragi2013\")\n",
        "require(tidyverse)\n",
        "library(reshape)\n",
        "\n",
        "data(\"x\")\n",
        "selectedProbes = c( Fgf4 = \"1420085_at\", Gata4 = \"1418863_at\",\n",
        "                   Gata6 = \"1425463_at\",  Sox2 = \"1416967_at\")\n",
        "\n",
        "genes = melt(Biobase::exprs(x)[selectedProbes, ],\n",
        "             varnames = c(\"probe\", \"sample\"))\n",
        "genes$gene =\n",
        "  names(selectedProbes)[match(genes$probe, selectedProbes)]\n",
        "head(genes)"
      ]
    },
    {
      "cell_type": "code",
      "execution_count": null,
      "metadata": {
        "kernel": "R",
        "id": "kqFfyOeslHR-"
      },
      "outputs": [],
      "source": [
        ""
      ]
    },
    {
      "cell_type": "code",
      "execution_count": null,
      "metadata": {
        "kernel": "R",
        "id": "ihKFEV7dlHR-"
      },
      "outputs": [],
      "source": [
        ""
      ]
    },
    {
      "cell_type": "markdown",
      "metadata": {
        "kernel": "R",
        "id": "Ak7ntFIGlHR-"
      },
      "source": [
        "## Q2.Prepare a heatmap from data x considering the top 500 genes."
      ]
    },
    {
      "cell_type": "code",
      "execution_count": null,
      "metadata": {
        "kernel": "R",
        "id": "A6zd-wgrlHR_"
      },
      "outputs": [],
      "source": [
        ""
      ]
    },
    {
      "cell_type": "code",
      "execution_count": null,
      "metadata": {
        "kernel": "R",
        "id": "PSIsAwVKlHSA"
      },
      "outputs": [],
      "source": [
        ""
      ]
    },
    {
      "cell_type": "code",
      "execution_count": null,
      "metadata": {
        "kernel": "R",
        "id": "lr_baOJ_lHSA"
      },
      "outputs": [],
      "source": [
        ""
      ]
    },
    {
      "cell_type": "markdown",
      "metadata": {
        "kernel": "Pollyglot",
        "id": "56HfFMD1lHSA"
      },
      "source": [
        "## For questions 3-6 you will use the following data\n",
        "\n",
        "### The Gapminder dataset : \n",
        "- To visualize development outcomes. \n",
        "- The data covers 1952 to 2007 in five year intervals and measures life expectancy, population, and GDP Per Capita.\n",
        "\n",
        "(Run the cells below to get your data)"
      ]
    },
    {
      "cell_type": "code",
      "execution_count": null,
      "metadata": {
        "kernel": "R",
        "id": "QnRJehtQlHSB",
        "outputId": "5d4779ec-f017-47fa-8c70-1d59d877acef"
      },
      "outputs": [
        {
          "name": "stdout",
          "output_type": "stream",
          "text": [
            "\n",
            "R version 3.6.3 (2020-02-29) -- \"Holding the Windsock\"\n",
            "Copyright (C) 2020 The R Foundation for Statistical Computing\n",
            "Platform: x86_64-pc-linux-gnu (64-bit)\n",
            "\n",
            "R is free software and comes with ABSOLUTELY NO WARRANTY.\n",
            "You are welcome to redistribute it under certain conditions.\n",
            "Type 'license()' or 'licence()' for distribution details.\n",
            "\n",
            "  Natural language support but running in an English locale\n",
            "\n",
            "R is a collaborative project with many contributors.\n",
            "Type 'contributors()' for more information and\n",
            "'citation()' on how to cite R or R packages in publications.\n",
            "\n",
            "Type 'demo()' for some demos, 'help()' for on-line help, or\n",
            "'help.start()' for an HTML browser interface to help.\n",
            "Type 'q()' to quit R.\n",
            "\n",
            "> BiocManager::install(c(\"gapminder\"), update = F, ask = FALSE)\n",
            "Bioconductor version 3.10 (BiocManager 1.30.10), R 3.6.3 (2020-02-29)\n",
            "Installing package(s) 'gapminder'\n",
            "trying URL 'https://cran.rstudio.com/src/contrib/gapminder_0.3.0.tar.gz'\n",
            "Content type 'application/x-gzip' length 2110951 bytes (2.0 MB)\n",
            "==================================================\n",
            "downloaded 2.0 MB\n",
            "\n",
            "* installing *source* package ‘gapminder’ ...\n",
            "** package ‘gapminder’ successfully unpacked and MD5 sums checked\n",
            "** using staged installation\n",
            "** R\n",
            "** data\n",
            "*** moving datasets to lazyload DB\n",
            "** inst\n",
            "** byte-compile and prepare package for lazy loading\n",
            "** help\n",
            "*** installing help indices\n",
            "*** copying figures\n",
            "** building package indices\n",
            "** testing if installed package can be loaded from temporary location\n",
            "** testing if installed package can be loaded from final location\n",
            "** testing if installed package keeps a record of temporary installation path\n",
            "* DONE (gapminder)\n",
            "\n",
            "The downloaded source packages are in\n",
            "\t‘/tmp/RtmpNYHRFX/downloaded_packages’\n",
            "> \n",
            "> \n"
          ]
        }
      ],
      "source": [
        "!sudo R -e 'BiocManager::install(c(\"gapminder\"), update = F, ask = FALSE)'"
      ]
    },
    {
      "cell_type": "markdown",
      "metadata": {
        "kernel": "R",
        "id": "oTYcQbwplHSC"
      },
      "source": [
        "## Q3.Prepare subset data from  \"gapminder\" based on the following conditions:\n",
        "\n",
        "- Select considering the country \"United States\" or \"Canada\"\n",
        "- Determine the data considering population is lower than 1000000 (year: 2007)\n",
        "- If life expectancy is lower than 30\n",
        "- List 5 countries with highest life expectancy in 2007 \n",
        "- Prepare a plot to show GDP per capita"
      ]
    },
    {
      "cell_type": "code",
      "execution_count": null,
      "metadata": {
        "kernel": "R",
        "id": "X1lcyFu2lHSC"
      },
      "outputs": [],
      "source": [
        ""
      ]
    },
    {
      "cell_type": "code",
      "execution_count": null,
      "metadata": {
        "kernel": "R",
        "id": "tHickylClHSD"
      },
      "outputs": [],
      "source": [
        ""
      ]
    },
    {
      "cell_type": "markdown",
      "metadata": {
        "kernel": "R",
        "id": "an6LVsOQlHSD"
      },
      "source": [
        "## Q4. How is lifeExp, pop and gdpPercap variables distributed?"
      ]
    },
    {
      "cell_type": "code",
      "execution_count": null,
      "metadata": {
        "kernel": "R",
        "id": "BmDWvKi2lHSE"
      },
      "outputs": [],
      "source": [
        ""
      ]
    },
    {
      "cell_type": "code",
      "execution_count": null,
      "metadata": {
        "kernel": "R",
        "id": "taZ9NGjAlHSE"
      },
      "outputs": [],
      "source": [
        ""
      ]
    },
    {
      "cell_type": "markdown",
      "metadata": {
        "kernel": "R",
        "id": "Y2SzOcjqlHSE"
      },
      "source": [
        "## Q5. What’s the relationship between economic development and life expectancy? Is the relationship the same for all continents?"
      ]
    },
    {
      "cell_type": "code",
      "execution_count": null,
      "metadata": {
        "kernel": "R",
        "id": "4abtM2hJlHSF"
      },
      "outputs": [],
      "source": [
        ""
      ]
    },
    {
      "cell_type": "markdown",
      "metadata": {
        "kernel": "R",
        "id": "xrUgH94XlHSG"
      },
      "source": [
        "## Q6. Which countries in Africa have the lowest levels of life expectancy?"
      ]
    },
    {
      "cell_type": "code",
      "execution_count": null,
      "metadata": {
        "kernel": "R",
        "id": "AR5AbcxslHSG"
      },
      "outputs": [],
      "source": [
        ""
      ]
    },
    {
      "cell_type": "markdown",
      "metadata": {
        "kernel": "R",
        "id": "govr8kqTlHSG"
      },
      "source": [
        "##Run the cells below to get data for questions 7 and 8"
      ]
    },
    {
      "cell_type": "code",
      "execution_count": null,
      "metadata": {
        "kernel": "Bash",
        "id": "3QG6PS_WlHSG",
        "outputId": "79d6997d-3deb-44ce-e371-a8c67e2c5116"
      },
      "outputs": [
        {
          "name": "stdout",
          "output_type": "stream",
          "text": [
            "\u001b7\u001b[?7l\u001b[1Gprogress [░░░░░░░░░░░░░░░░░░░░░░░░░░░░░░░░░░░░░░░░] 0% | NA | ETA: 0s | time elapsed: 0s\u001b[0K\u001b[1Gprogress [████████████████████████████████████████] 100% | 4.899 KB/4.899 KB | ETA: 0s | time elapsed: 0s\u001b[0K\u001b[?7h\u001b8\n",
            "\u001b[32m\u001b[1mSuccess: Download complete\u001b[22m\u001b[39m\n"
          ]
        }
      ],
      "source": [
        "polly files copy -s \"polly://uslifeexp.csv\" -d . -y"
      ]
    },
    {
      "cell_type": "code",
      "execution_count": null,
      "metadata": {
        "kernel": "R",
        "id": "IvZigKhLlHSG",
        "outputId": "d2d38b41-d136-48f1-d4be-c52c30239648"
      },
      "outputs": [
        {
          "data": {
            "text/html": [
              "<table class=\"dataframe\">\n",
              "<caption>A data.frame: 6 × 10</caption>\n",
              "<thead>\n",
              "\t<tr><th></th><th scope=col>year</th><th scope=col>le</th><th scope=col>le_male</th><th scope=col>le_female</th><th scope=col>le_w</th><th scope=col>le_wmale</th><th scope=col>le_wfemale</th><th scope=col>le_b</th><th scope=col>le_bmale</th><th scope=col>le_bfemale</th></tr>\n",
              "\t<tr><th></th><th scope=col>&lt;int&gt;</th><th scope=col>&lt;dbl&gt;</th><th scope=col>&lt;dbl&gt;</th><th scope=col>&lt;dbl&gt;</th><th scope=col>&lt;dbl&gt;</th><th scope=col>&lt;dbl&gt;</th><th scope=col>&lt;dbl&gt;</th><th scope=col>&lt;dbl&gt;</th><th scope=col>&lt;dbl&gt;</th><th scope=col>&lt;dbl&gt;</th></tr>\n",
              "</thead>\n",
              "<tbody>\n",
              "\t<tr><th scope=row>1</th><td>1900</td><td>47.3</td><td>46.3</td><td>48.3</td><td>47.6</td><td>46.6</td><td>48.7</td><td>33.0</td><td>32.5</td><td>33.5</td></tr>\n",
              "\t<tr><th scope=row>2</th><td>1901</td><td>49.1</td><td>47.6</td><td>50.6</td><td>49.4</td><td>48.0</td><td>51.0</td><td>33.7</td><td>32.2</td><td>35.3</td></tr>\n",
              "\t<tr><th scope=row>3</th><td>1902</td><td>51.5</td><td>49.8</td><td>53.4</td><td>51.9</td><td>50.2</td><td>53.8</td><td>34.6</td><td>32.9</td><td>36.4</td></tr>\n",
              "\t<tr><th scope=row>4</th><td>1903</td><td>50.5</td><td>49.1</td><td>52.0</td><td>50.9</td><td>49.5</td><td>52.5</td><td>33.1</td><td>31.7</td><td>34.6</td></tr>\n",
              "\t<tr><th scope=row>5</th><td>1904</td><td>47.6</td><td>46.2</td><td>49.1</td><td>48.0</td><td>46.6</td><td>49.5</td><td>30.8</td><td>29.1</td><td>32.7</td></tr>\n",
              "\t<tr><th scope=row>6</th><td>1905</td><td>48.7</td><td>47.3</td><td>50.2</td><td>49.1</td><td>47.6</td><td>50.6</td><td>31.3</td><td>29.6</td><td>33.1</td></tr>\n",
              "</tbody>\n",
              "</table>\n"
            ],
            "text/latex": [
              "A data.frame: 6 × 10\n",
              "\\begin{tabular}{r|llllllllll}\n",
              "  & year & le & le\\_male & le\\_female & le\\_w & le\\_wmale & le\\_wfemale & le\\_b & le\\_bmale & le\\_bfemale\\\\\n",
              "  & <int> & <dbl> & <dbl> & <dbl> & <dbl> & <dbl> & <dbl> & <dbl> & <dbl> & <dbl>\\\\\n",
              "\\hline\n",
              "\t1 & 1900 & 47.3 & 46.3 & 48.3 & 47.6 & 46.6 & 48.7 & 33.0 & 32.5 & 33.5\\\\\n",
              "\t2 & 1901 & 49.1 & 47.6 & 50.6 & 49.4 & 48.0 & 51.0 & 33.7 & 32.2 & 35.3\\\\\n",
              "\t3 & 1902 & 51.5 & 49.8 & 53.4 & 51.9 & 50.2 & 53.8 & 34.6 & 32.9 & 36.4\\\\\n",
              "\t4 & 1903 & 50.5 & 49.1 & 52.0 & 50.9 & 49.5 & 52.5 & 33.1 & 31.7 & 34.6\\\\\n",
              "\t5 & 1904 & 47.6 & 46.2 & 49.1 & 48.0 & 46.6 & 49.5 & 30.8 & 29.1 & 32.7\\\\\n",
              "\t6 & 1905 & 48.7 & 47.3 & 50.2 & 49.1 & 47.6 & 50.6 & 31.3 & 29.6 & 33.1\\\\\n",
              "\\end{tabular}\n"
            ],
            "text/markdown": [
              "\n",
              "A data.frame: 6 × 10\n",
              "\n",
              "| <!--/--> | year &lt;int&gt; | le &lt;dbl&gt; | le_male &lt;dbl&gt; | le_female &lt;dbl&gt; | le_w &lt;dbl&gt; | le_wmale &lt;dbl&gt; | le_wfemale &lt;dbl&gt; | le_b &lt;dbl&gt; | le_bmale &lt;dbl&gt; | le_bfemale &lt;dbl&gt; |\n",
              "|---|---|---|---|---|---|---|---|---|---|---|\n",
              "| 1 | 1900 | 47.3 | 46.3 | 48.3 | 47.6 | 46.6 | 48.7 | 33.0 | 32.5 | 33.5 |\n",
              "| 2 | 1901 | 49.1 | 47.6 | 50.6 | 49.4 | 48.0 | 51.0 | 33.7 | 32.2 | 35.3 |\n",
              "| 3 | 1902 | 51.5 | 49.8 | 53.4 | 51.9 | 50.2 | 53.8 | 34.6 | 32.9 | 36.4 |\n",
              "| 4 | 1903 | 50.5 | 49.1 | 52.0 | 50.9 | 49.5 | 52.5 | 33.1 | 31.7 | 34.6 |\n",
              "| 5 | 1904 | 47.6 | 46.2 | 49.1 | 48.0 | 46.6 | 49.5 | 30.8 | 29.1 | 32.7 |\n",
              "| 6 | 1905 | 48.7 | 47.3 | 50.2 | 49.1 | 47.6 | 50.6 | 31.3 | 29.6 | 33.1 |\n",
              "\n"
            ],
            "text/plain": [
              "  year le   le_male le_female le_w le_wmale le_wfemale le_b le_bmale le_bfemale\n",
              "1 1900 47.3 46.3    48.3      47.6 46.6     48.7       33.0 32.5     33.5      \n",
              "2 1901 49.1 47.6    50.6      49.4 48.0     51.0       33.7 32.2     35.3      \n",
              "3 1902 51.5 49.8    53.4      51.9 50.2     53.8       34.6 32.9     36.4      \n",
              "4 1903 50.5 49.1    52.0      50.9 49.5     52.5       33.1 31.7     34.6      \n",
              "5 1904 47.6 46.2    49.1      48.0 46.6     49.5       30.8 29.1     32.7      \n",
              "6 1905 48.7 47.3    50.2      49.1 47.6     50.6       31.3 29.6     33.1      "
            ]
          },
          "metadata": {},
          "output_type": "display_data"
        },
        {
          "data": {
            "text/html": [
              "<table class=\"dataframe\">\n",
              "<caption>A data.frame: 6 × 10</caption>\n",
              "<thead>\n",
              "\t<tr><th></th><th scope=col>year</th><th scope=col>le</th><th scope=col>le_male</th><th scope=col>le_female</th><th scope=col>le_w</th><th scope=col>le_wmale</th><th scope=col>le_wfemale</th><th scope=col>le_b</th><th scope=col>le_bmale</th><th scope=col>le_bfemale</th></tr>\n",
              "\t<tr><th></th><th scope=col>&lt;int&gt;</th><th scope=col>&lt;dbl&gt;</th><th scope=col>&lt;dbl&gt;</th><th scope=col>&lt;dbl&gt;</th><th scope=col>&lt;dbl&gt;</th><th scope=col>&lt;dbl&gt;</th><th scope=col>&lt;dbl&gt;</th><th scope=col>&lt;dbl&gt;</th><th scope=col>&lt;dbl&gt;</th><th scope=col>&lt;dbl&gt;</th></tr>\n",
              "</thead>\n",
              "<tbody>\n",
              "\t<tr><th scope=row>95</th><td>1994</td><td>75.7</td><td>72.4</td><td>79.0</td><td>76.5</td><td>73.3</td><td>79.6</td><td>69.5</td><td>64.9</td><td>73.9</td></tr>\n",
              "\t<tr><th scope=row>96</th><td>1995</td><td>75.8</td><td>72.5</td><td>78.9</td><td>76.5</td><td>73.4</td><td>79.6</td><td>69.6</td><td>65.2</td><td>73.9</td></tr>\n",
              "\t<tr><th scope=row>97</th><td>1996</td><td>76.1</td><td>73.1</td><td>79.1</td><td>76.8</td><td>73.9</td><td>79.7</td><td>70.2</td><td>66.1</td><td>74.2</td></tr>\n",
              "\t<tr><th scope=row>98</th><td>1997</td><td>76.5</td><td>73.6</td><td>79.4</td><td>77.2</td><td>74.3</td><td>79.9</td><td>71.1</td><td>67.2</td><td>74.7</td></tr>\n",
              "\t<tr><th scope=row>99</th><td>1998</td><td>76.7</td><td>73.8</td><td>79.5</td><td>77.3</td><td>74.5</td><td>80.0</td><td>71.3</td><td>67.6</td><td>74.8</td></tr>\n",
              "\t<tr><th scope=row>100</th><td>1999</td><td>76.7</td><td>73.9</td><td>79.4</td><td>77.3</td><td>74.6</td><td>79.9</td><td>71.4</td><td>67.8</td><td>74.7</td></tr>\n",
              "</tbody>\n",
              "</table>\n"
            ],
            "text/latex": [
              "A data.frame: 6 × 10\n",
              "\\begin{tabular}{r|llllllllll}\n",
              "  & year & le & le\\_male & le\\_female & le\\_w & le\\_wmale & le\\_wfemale & le\\_b & le\\_bmale & le\\_bfemale\\\\\n",
              "  & <int> & <dbl> & <dbl> & <dbl> & <dbl> & <dbl> & <dbl> & <dbl> & <dbl> & <dbl>\\\\\n",
              "\\hline\n",
              "\t95 & 1994 & 75.7 & 72.4 & 79.0 & 76.5 & 73.3 & 79.6 & 69.5 & 64.9 & 73.9\\\\\n",
              "\t96 & 1995 & 75.8 & 72.5 & 78.9 & 76.5 & 73.4 & 79.6 & 69.6 & 65.2 & 73.9\\\\\n",
              "\t97 & 1996 & 76.1 & 73.1 & 79.1 & 76.8 & 73.9 & 79.7 & 70.2 & 66.1 & 74.2\\\\\n",
              "\t98 & 1997 & 76.5 & 73.6 & 79.4 & 77.2 & 74.3 & 79.9 & 71.1 & 67.2 & 74.7\\\\\n",
              "\t99 & 1998 & 76.7 & 73.8 & 79.5 & 77.3 & 74.5 & 80.0 & 71.3 & 67.6 & 74.8\\\\\n",
              "\t100 & 1999 & 76.7 & 73.9 & 79.4 & 77.3 & 74.6 & 79.9 & 71.4 & 67.8 & 74.7\\\\\n",
              "\\end{tabular}\n"
            ],
            "text/markdown": [
              "\n",
              "A data.frame: 6 × 10\n",
              "\n",
              "| <!--/--> | year &lt;int&gt; | le &lt;dbl&gt; | le_male &lt;dbl&gt; | le_female &lt;dbl&gt; | le_w &lt;dbl&gt; | le_wmale &lt;dbl&gt; | le_wfemale &lt;dbl&gt; | le_b &lt;dbl&gt; | le_bmale &lt;dbl&gt; | le_bfemale &lt;dbl&gt; |\n",
              "|---|---|---|---|---|---|---|---|---|---|---|\n",
              "| 95 | 1994 | 75.7 | 72.4 | 79.0 | 76.5 | 73.3 | 79.6 | 69.5 | 64.9 | 73.9 |\n",
              "| 96 | 1995 | 75.8 | 72.5 | 78.9 | 76.5 | 73.4 | 79.6 | 69.6 | 65.2 | 73.9 |\n",
              "| 97 | 1996 | 76.1 | 73.1 | 79.1 | 76.8 | 73.9 | 79.7 | 70.2 | 66.1 | 74.2 |\n",
              "| 98 | 1997 | 76.5 | 73.6 | 79.4 | 77.2 | 74.3 | 79.9 | 71.1 | 67.2 | 74.7 |\n",
              "| 99 | 1998 | 76.7 | 73.8 | 79.5 | 77.3 | 74.5 | 80.0 | 71.3 | 67.6 | 74.8 |\n",
              "| 100 | 1999 | 76.7 | 73.9 | 79.4 | 77.3 | 74.6 | 79.9 | 71.4 | 67.8 | 74.7 |\n",
              "\n"
            ],
            "text/plain": [
              "    year le   le_male le_female le_w le_wmale le_wfemale le_b le_bmale\n",
              "95  1994 75.7 72.4    79.0      76.5 73.3     79.6       69.5 64.9    \n",
              "96  1995 75.8 72.5    78.9      76.5 73.4     79.6       69.6 65.2    \n",
              "97  1996 76.1 73.1    79.1      76.8 73.9     79.7       70.2 66.1    \n",
              "98  1997 76.5 73.6    79.4      77.2 74.3     79.9       71.1 67.2    \n",
              "99  1998 76.7 73.8    79.5      77.3 74.5     80.0       71.3 67.6    \n",
              "100 1999 76.7 73.9    79.4      77.3 74.6     79.9       71.4 67.8    \n",
              "    le_bfemale\n",
              "95  73.9      \n",
              "96  73.9      \n",
              "97  74.2      \n",
              "98  74.7      \n",
              "99  74.8      \n",
              "100 74.7      "
            ]
          },
          "metadata": {},
          "output_type": "display_data"
        }
      ],
      "source": [
        "library(\"tidyr\")\n",
        "library(\"dplyr\")\n",
        "library(\"ggplot2\")\n",
        "\n",
        "usle <- read.csv(file=\"uslifeexp.csv\", head=TRUE, sep=\",\")\n",
        "head(usle)\n",
        "tail(usle)"
      ]
    },
    {
      "cell_type": "markdown",
      "metadata": {
        "kernel": "R",
        "id": "sryvNgqelHSH"
      },
      "source": [
        "## Q7. Transform the data to highlight specific variables\n",
        "\n",
        "- Show life expectancy by sex (\"le_male\", \"le_female\")\n",
        "- Display tidy data that shows life expectancy by race (black: le_b, white: le_w)"
      ]
    },
    {
      "cell_type": "code",
      "execution_count": null,
      "metadata": {
        "kernel": "R",
        "id": "aUMu-NEtlHSH"
      },
      "outputs": [],
      "source": [
        ""
      ]
    },
    {
      "cell_type": "markdown",
      "metadata": {
        "kernel": "R",
        "id": "fR6FUqJhlHSH"
      },
      "source": [
        "## Q8. Determine the gap between life expectancy between male and female, and between black and white. Prepare a plot to showcase this data."
      ]
    },
    {
      "cell_type": "code",
      "execution_count": null,
      "metadata": {
        "kernel": "R",
        "id": "_rQhhKPjlHSH"
      },
      "outputs": [],
      "source": [
        ""
      ]
    },
    {
      "cell_type": "markdown",
      "metadata": {
        "kernel": "R",
        "id": "YoMWGM8OlHSI"
      },
      "source": [
        "## Q9. Do the following\n",
        "\n",
        "- Create a correlation matrix of the Iris dataset\n",
        "\n",
        "## Q10. Do the following\n",
        "- Create a box plot of Petal Length by flower species. Make each box plot a different color for each species\n",
        "- Create a Scatter jitter plot of Petal Width on the x axis vs. Petal Length on y axis, for the species of flower you identify in your boxplot that has the largest median Petal Length "
      ]
    },
    {
      "cell_type": "code",
      "execution_count": null,
      "metadata": {
        "kernel": "R",
        "id": "lJPlIgRPlHSI",
        "outputId": "bdcc4684-e619-45c0-8013-64d2b0f693f5"
      },
      "outputs": [
        {
          "data": {
            "text/plain": [
              "  Sepal.Length    Sepal.Width     Petal.Length    Petal.Width   \n",
              " Min.   :4.300   Min.   :2.000   Min.   :1.000   Min.   :0.100  \n",
              " 1st Qu.:5.100   1st Qu.:2.800   1st Qu.:1.600   1st Qu.:0.300  \n",
              " Median :5.800   Median :3.000   Median :4.350   Median :1.300  \n",
              " Mean   :5.843   Mean   :3.057   Mean   :3.758   Mean   :1.199  \n",
              " 3rd Qu.:6.400   3rd Qu.:3.300   3rd Qu.:5.100   3rd Qu.:1.800  \n",
              " Max.   :7.900   Max.   :4.400   Max.   :6.900   Max.   :2.500  \n",
              "       Species  \n",
              " setosa    :50  \n",
              " versicolor:50  \n",
              " virginica :50  \n",
              "                \n",
              "                \n",
              "                "
            ]
          },
          "metadata": {},
          "output_type": "display_data"
        }
      ],
      "source": [
        "## Run cell to get data\n",
        "library(ggplot2)\n",
        "library(tidyr)\n",
        "library(datasets)\n",
        "data(\"iris\")\n",
        "summary(iris)"
      ]
    },
    {
      "cell_type": "code",
      "execution_count": null,
      "metadata": {
        "kernel": "R",
        "id": "J9mIA0bilHSI"
      },
      "outputs": [],
      "source": [
        ""
      ]
    },
    {
      "cell_type": "markdown",
      "metadata": {
        "kernel": "R",
        "id": "W8SMNQU4lHSK"
      },
      "source": [
        "## Q11 Bonus\n",
        "\n",
        "- Prepare a report for submission \n",
        "- Submit assignment on time\n",
        "- Code elegance and comments\n",
        "- Describe your solutions"
      ]
    },
    {
      "cell_type": "code",
      "execution_count": null,
      "metadata": {
        "kernel": "R",
        "id": "KJ3wiYWQlHSL"
      },
      "outputs": [],
      "source": [
        ""
      ]
    },
    {
      "cell_type": "code",
      "execution_count": null,
      "metadata": {
        "kernel": "R",
        "id": "eF3ip16rlHSL"
      },
      "outputs": [],
      "source": [
        ""
      ]
    }
  ],
  "metadata": {
    "kernelspec": {
      "display_name": "Pollyglot",
      "language": "sos",
      "name": "sos"
    },
    "language_info": {
      "codemirror_mode": "sos",
      "file_extension": ".sos",
      "mimetype": "text/x-sos",
      "name": "sos",
      "nbconvert_exporter": "sos_notebook.converter.SoS_Exporter",
      "pygments_lexer": "sos"
    },
    "sos": {
      "kernels": [
        [
          "Bash",
          "bash",
          "Bash",
          "#E6EEFF",
          ""
        ],
        [
          "R",
          "ir",
          "R",
          "#DCDCDA",
          "r"
        ]
      ],
      "panel": {
        "displayed": false,
        "height": 0
      },
      "version": "1.0.0"
    },
    "colab": {
      "name": "R assignment 2_ques.ipynb",
      "provenance": [],
      "include_colab_link": true
    }
  },
  "nbformat": 4,
  "nbformat_minor": 0
}